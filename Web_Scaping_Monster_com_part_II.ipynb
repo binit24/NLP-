{
  "nbformat": 4,
  "nbformat_minor": 0,
  "metadata": {
    "colab": {
      "name": "Web Scaping Monster.com part II",
      "provenance": [],
      "authorship_tag": "ABX9TyPlbpz+zhOSTxS9p10OKa/p",
      "include_colab_link": true
    },
    "kernelspec": {
      "name": "python3",
      "display_name": "Python 3"
    }
  },
  "cells": [
    {
      "cell_type": "markdown",
      "metadata": {
        "id": "view-in-github",
        "colab_type": "text"
      },
      "source": [
        "<a href=\"https://colab.research.google.com/github/binit24/NLP-Natural-Language-Processing/blob/main/Web_Scaping_Monster_com_part_II.ipynb\" target=\"_parent\"><img src=\"https://colab.research.google.com/assets/colab-badge.svg\" alt=\"Open In Colab\"/></a>"
      ]
    },
    {
      "cell_type": "code",
      "metadata": {
        "id": "zmqO4v64r4IN"
      },
      "source": [
        "#Importing the required Libraries:\r\n",
        "from bs4 import BeautifulSoup\r\n",
        "import requests"
      ],
      "execution_count": 451,
      "outputs": []
    },
    {
      "cell_type": "code",
      "metadata": {
        "id": "_Fp_bNKlr6i5"
      },
      "source": [
        "#Now getting the request for webpage server:\r\n",
        "page = requests.get(\"https://www.monster.com/jobs/search/?q=Software-Engineer\")"
      ],
      "execution_count": 452,
      "outputs": []
    },
    {
      "cell_type": "code",
      "metadata": {
        "id": "dB6Bx6Cuhh8n"
      },
      "source": [
        "#Now lets parse the souce code by using Beautifull soup.\r\n",
        "soup = BeautifulSoup(page.content,'html.parser')"
      ],
      "execution_count": 453,
      "outputs": []
    },
    {
      "cell_type": "code",
      "metadata": {
        "id": "UG9uARser6wY",
        "colab": {
          "base_uri": "https://localhost:8080/"
        },
        "outputId": "e377ac03-4a83-49fa-9f43-97c82e071690"
      },
      "source": [
        "#Lets print the title.\r\n",
        "print(soup.title.text)"
      ],
      "execution_count": 435,
      "outputs": [
        {
          "output_type": "stream",
          "text": [
            "Software Engineer  Jobs | Monster.com\n"
          ],
          "name": "stdout"
        }
      ]
    },
    {
      "cell_type": "code",
      "metadata": {
        "id": "Vty1KXJtxosj"
      },
      "source": [
        "results = soup.find(id='ResultsContainer')"
      ],
      "execution_count": 436,
      "outputs": []
    },
    {
      "cell_type": "code",
      "metadata": {
        "id": "CTleVOjgxo1V"
      },
      "source": [
        "#Lets create empty list.\r\n",
        "jobs_titles = []\r\n",
        "company_name = []\r\n",
        "job_location = []"
      ],
      "execution_count": 437,
      "outputs": []
    },
    {
      "cell_type": "code",
      "metadata": {
        "colab": {
          "base_uri": "https://localhost:8080/"
        },
        "id": "xGNOoq_ez6Aq",
        "outputId": "d7c27577-0195-48b3-ab42-bc64f9711e14"
      },
      "source": [
        "#Lets extract all the tags having movie_titles.\r\n",
        "titles = soup.find_all('h2',class_=\"title\")\r\n",
        "titles[0:5]"
      ],
      "execution_count": 438,
      "outputs": [
        {
          "output_type": "execute_result",
          "data": {
            "text/plain": [
              "[<h2 class=\"title\"><a data-bypass=\"true\" data-m_impr_a_placement_id=\"JSR2CW\" data-m_impr_j_cid=\"4\" data-m_impr_j_coc=\"\" data-m_impr_j_jawsid=\"439981689\" data-m_impr_j_jobid=\"0\" data-m_impr_j_jpm=\"1\" data-m_impr_j_jpt=\"2\" data-m_impr_j_lat=\"40.274\" data-m_impr_j_lid=\"586\" data-m_impr_j_long=\"-80.1538\" data-m_impr_j_occid=\"11900\" data-m_impr_j_p=\"1\" data-m_impr_j_postingid=\"2f1aa048-b71c-4d75-b4db-09f3d395fc44\" data-m_impr_j_pvc=\"shakerpx\" data-m_impr_s_t=\"t\" data-m_impr_uuid=\"7bfe15eb-8ef8-4f39-806d-e6e554d14300\" href=\"https://job-openings.monster.com/r-d-engineer-ii-software-developer-cloud-canonsburg-pa-us-ansys/2f1aa048-b71c-4d75-b4db-09f3d395fc44\" onclick=\"clickJobTitle('plid=586&amp;pcid=4&amp;poccid=11900','Software Engineer',''); clickJobTitleSiteCat('{&quot;events.event48&quot;:&quot;true&quot;,&quot;eVar25&quot;:&quot;R\\u0026D Engineer II  (Software Developer) - Cloud&quot;,&quot;eVar66&quot;:&quot;Monster&quot;,&quot;eVar67&quot;:&quot;JSR2CW&quot;,&quot;eVar26&quot;:&quot;_ANSYS&quot;,&quot;eVar31&quot;:&quot;Canonsburg_PA_&quot;,&quot;prop24&quot;:&quot;2020-12-28T12:00&quot;,&quot;eVar53&quot;:&quot;1700190001001&quot;,&quot;eVar50&quot;:&quot;PPC&quot;,&quot;eVar74&quot;:&quot;regular&quot;}')\">R&amp;D Engineer II  (Software Developer) - Cloud\n",
              " </a></h2>,\n",
              " <h2 class=\"title\"><a data-bypass=\"true\" data-m_impr_a_placement_id=\"JSR2CW\" data-m_impr_j_cid=\"660\" data-m_impr_j_coc=\"\" data-m_impr_j_jawsid=\"452695936\" data-m_impr_j_jobid=\"0\" data-m_impr_j_jpm=\"1\" data-m_impr_j_jpt=\"2\" data-m_impr_j_lat=\"42.8142\" data-m_impr_j_lid=\"544\" data-m_impr_j_long=\"-73.9396\" data-m_impr_j_occid=\"11970\" data-m_impr_j_p=\"2\" data-m_impr_j_postingid=\"1708ffb0-1c9a-4b92-9c1c-01734181a47a\" data-m_impr_j_pvc=\"cfc7349d-8efd-46b7-b258-e089e3057638\" data-m_impr_s_t=\"t\" data-m_impr_uuid=\"392bd3fb-81e1-4a90-a0fe-09afd70c9a9c\" href=\"https://job-openings.monster.com/software-engineer-experienced-schenectady-ny-us-naval-nuclear-laboratory/1708ffb0-1c9a-4b92-9c1c-01734181a47a\" onclick=\"clickJobTitle('plid=544&amp;pcid=660&amp;poccid=11970','Software Engineer',''); clickJobTitleSiteCat('{&quot;events.event48&quot;:&quot;true&quot;,&quot;eVar25&quot;:&quot;Software Engineer (Experienced)&quot;,&quot;eVar66&quot;:&quot;Monster&quot;,&quot;eVar67&quot;:&quot;JSR2CW&quot;,&quot;eVar26&quot;:&quot;_Naval Nuclear Laboratory&quot;,&quot;eVar31&quot;:&quot;Schenectady_NY_&quot;,&quot;prop24&quot;:&quot;2021-01-06T12:00&quot;,&quot;eVar53&quot;:&quot;1500127001001&quot;,&quot;eVar50&quot;:&quot;PPC&quot;,&quot;eVar74&quot;:&quot;regular&quot;}')\">Software Engineer (Experienced)\n",
              " </a></h2>,\n",
              " <h2 class=\"title\"><a data-bypass=\"true\" data-m_impr_a_placement_id=\"JSR2CW\" data-m_impr_j_cid=\"660\" data-m_impr_j_coc=\"\" data-m_impr_j_jawsid=\"469613566\" data-m_impr_j_jobid=\"102684\" data-m_impr_j_jpm=\"1\" data-m_impr_j_jpt=\"2\" data-m_impr_j_lat=\"38.8106\" data-m_impr_j_lid=\"497\" data-m_impr_j_long=\"-90.6999\" data-m_impr_j_occid=\"11970\" data-m_impr_j_p=\"3\" data-m_impr_j_postingid=\"1f35c58b-32df-4e19-84fc-2dec63af0fee\" data-m_impr_j_pvc=\"0a8b17fc-22b6-472c-b8ee-1be5a53c171f\" data-m_impr_s_t=\"t\" data-m_impr_uuid=\"8afea8c3-2d40-458d-9278-0019c1e3841e\" href=\"https://job-openings.monster.com/lead-software-development-engineer-ofallon-mo-us-kelly-mitchell/1f35c58b-32df-4e19-84fc-2dec63af0fee\" onclick=\"clickJobTitle('plid=497&amp;pcid=660&amp;poccid=11970','Software Engineer',''); clickJobTitleSiteCat('{&quot;events.event48&quot;:&quot;true&quot;,&quot;eVar25&quot;:&quot;Lead Software Development Engineer&quot;,&quot;eVar66&quot;:&quot;Monster&quot;,&quot;eVar67&quot;:&quot;JSR2CW&quot;,&quot;eVar26&quot;:&quot;_Kelly Mitchell&quot;,&quot;eVar31&quot;:&quot;O\\u0027Fallon_MO_&quot;,&quot;prop24&quot;:&quot;2021-01-06T12:00&quot;,&quot;eVar53&quot;:&quot;1500127001001&quot;,&quot;eVar50&quot;:&quot;PPC&quot;,&quot;eVar74&quot;:&quot;regular&quot;}')\">Lead Software Development Engineer\n",
              " </a></h2>,\n",
              " <h2 class=\"title\"><a data-bypass=\"true\" data-m_impr_a_placement_id=\"JSR2CW\" data-m_impr_j_cid=\"660\" data-m_impr_j_coc=\"\" data-m_impr_j_jawsid=\"384332828\" data-m_impr_j_jobid=\"287934\" data-m_impr_j_jpm=\"1\" data-m_impr_j_jpt=\"2\" data-m_impr_j_lat=\"34.7303\" data-m_impr_j_lid=\"326\" data-m_impr_j_long=\"-86.5861\" data-m_impr_j_occid=\"11970\" data-m_impr_j_p=\"4\" data-m_impr_j_postingid=\"a75ab0d9-274e-425a-b26a-1e6e961a4216\" data-m_impr_j_pvc=\"def5e965-473f-4fad-a030-91c2a4b9282f\" data-m_impr_s_t=\"t\" data-m_impr_uuid=\"c077a230-a3b6-4071-b491-5d06c4e78cd6\" href=\"https://job-openings.monster.com/software-engineer-developer-huntsville-al-us-kratos-defense-security-solutions/a75ab0d9-274e-425a-b26a-1e6e961a4216\" onclick=\"clickJobTitle('plid=326&amp;pcid=660&amp;poccid=11970','Software Engineer',''); clickJobTitleSiteCat('{&quot;events.event48&quot;:&quot;true&quot;,&quot;eVar25&quot;:&quot;Software Engineer/Developer&quot;,&quot;eVar66&quot;:&quot;Monster&quot;,&quot;eVar67&quot;:&quot;JSR2CW&quot;,&quot;eVar26&quot;:&quot;_Kratos Defense \\u0026 Security Solutions&quot;,&quot;eVar31&quot;:&quot;Huntsville_AL_&quot;,&quot;prop24&quot;:&quot;2021-01-03T12:00&quot;,&quot;eVar53&quot;:&quot;1500127001001&quot;,&quot;eVar50&quot;:&quot;PPC&quot;,&quot;eVar74&quot;:&quot;logo&quot;}')\">Software Engineer/Developer\n",
              " </a></h2>,\n",
              " <h2 class=\"title\"><a data-bypass=\"true\" data-m_impr_a_placement_id=\"JSR2CW\" data-m_impr_j_cid=\"11\" data-m_impr_j_coc=\"xsphhoneyx\" data-m_impr_j_jawsid=\"468468825\" data-m_impr_j_jobid=\"223124643\" data-m_impr_j_jpm=\"1\" data-m_impr_j_jpt=\"1\" data-m_impr_j_lat=\"29.7632\" data-m_impr_j_lid=\"619\" data-m_impr_j_long=\"-95.3633\" data-m_impr_j_occid=\"11892\" data-m_impr_j_p=\"5\" data-m_impr_j_postingid=\"9309f0ff-2f9c-4034-b995-fe46703875d2\" data-m_impr_j_pvc=\"monster\" data-m_impr_s_t=\"t\" data-m_impr_uuid=\"94877286-1b47-49ec-b115-0805bb8b17c2\" href=\"https://job-openings.monster.com/software-development-engineer-java-javascript-houston-tx-us-honeywell/223124643\" onclick=\"clickJobTitle('plid=619&amp;pcid=11&amp;poccid=11892','Software Engineer',''); clickJobTitleSiteCat('{&quot;events.event48&quot;:&quot;true&quot;,&quot;eVar25&quot;:&quot;Software Development Engineer (Java/JavaScript)&quot;,&quot;eVar66&quot;:&quot;Monster&quot;,&quot;eVar67&quot;:&quot;JSR2CW&quot;,&quot;eVar26&quot;:&quot;xsphhoneyx_Honeywell&quot;,&quot;eVar31&quot;:&quot;Houston_TX_&quot;,&quot;prop22&quot;:&quot;Employee&quot;,&quot;prop24&quot;:&quot;2020-12-29T12:00&quot;,&quot;eVar53&quot;:&quot;1500127001001&quot;,&quot;eVar50&quot;:&quot;Duration&quot;,&quot;eVar74&quot;:&quot;regular&quot;}')\">Software Development Engineer (Java/JavaScript)\n",
              " </a></h2>]"
            ]
          },
          "metadata": {
            "tags": []
          },
          "execution_count": 438
        }
      ]
    },
    {
      "cell_type": "code",
      "metadata": {
        "id": "CV9y4k-Az6Fc"
      },
      "source": [
        "#We are going to run 2 Loops to get the full text.\r\n",
        "#One loop is to iterate over the tags extracted above and one loop is to iterate over the b tags inside it.\r\n",
        "for i in titles:\r\n",
        "  jobs_titles.append(i.get_text().strip().replace(\"\\n\",\"\"))"
      ],
      "execution_count": 439,
      "outputs": []
    },
    {
      "cell_type": "code",
      "metadata": {
        "colab": {
          "base_uri": "https://localhost:8080/",
          "height": 35
        },
        "id": "O7mO1ERWz6PI",
        "outputId": "c8e91fd0-c8b4-41b3-fb94-64110066dc8f"
      },
      "source": [
        "titles[4].get_text().replace(\"\\n\",\"\").strip()"
      ],
      "execution_count": 440,
      "outputs": [
        {
          "output_type": "execute_result",
          "data": {
            "application/vnd.google.colaboratory.intrinsic+json": {
              "type": "string"
            },
            "text/plain": [
              "'Software Development Engineer (Java/JavaScript)'"
            ]
          },
          "metadata": {
            "tags": []
          },
          "execution_count": 440
        }
      ]
    },
    {
      "cell_type": "code",
      "metadata": {
        "colab": {
          "base_uri": "https://localhost:8080/"
        },
        "id": "DPMiLlUNxo4C",
        "outputId": "4ede49d4-964d-45b7-dd36-0ae34db5d2bb"
      },
      "source": [
        "#Lets extract all the tags having company names.\r\n",
        "company = soup.find_all('div',class_=\"company\")\r\n",
        "titles[0:5]"
      ],
      "execution_count": 441,
      "outputs": [
        {
          "output_type": "execute_result",
          "data": {
            "text/plain": [
              "[<h2 class=\"title\"><a data-bypass=\"true\" data-m_impr_a_placement_id=\"JSR2CW\" data-m_impr_j_cid=\"4\" data-m_impr_j_coc=\"\" data-m_impr_j_jawsid=\"439981689\" data-m_impr_j_jobid=\"0\" data-m_impr_j_jpm=\"1\" data-m_impr_j_jpt=\"2\" data-m_impr_j_lat=\"40.274\" data-m_impr_j_lid=\"586\" data-m_impr_j_long=\"-80.1538\" data-m_impr_j_occid=\"11900\" data-m_impr_j_p=\"1\" data-m_impr_j_postingid=\"2f1aa048-b71c-4d75-b4db-09f3d395fc44\" data-m_impr_j_pvc=\"shakerpx\" data-m_impr_s_t=\"t\" data-m_impr_uuid=\"7bfe15eb-8ef8-4f39-806d-e6e554d14300\" href=\"https://job-openings.monster.com/r-d-engineer-ii-software-developer-cloud-canonsburg-pa-us-ansys/2f1aa048-b71c-4d75-b4db-09f3d395fc44\" onclick=\"clickJobTitle('plid=586&amp;pcid=4&amp;poccid=11900','Software Engineer',''); clickJobTitleSiteCat('{&quot;events.event48&quot;:&quot;true&quot;,&quot;eVar25&quot;:&quot;R\\u0026D Engineer II  (Software Developer) - Cloud&quot;,&quot;eVar66&quot;:&quot;Monster&quot;,&quot;eVar67&quot;:&quot;JSR2CW&quot;,&quot;eVar26&quot;:&quot;_ANSYS&quot;,&quot;eVar31&quot;:&quot;Canonsburg_PA_&quot;,&quot;prop24&quot;:&quot;2020-12-28T12:00&quot;,&quot;eVar53&quot;:&quot;1700190001001&quot;,&quot;eVar50&quot;:&quot;PPC&quot;,&quot;eVar74&quot;:&quot;regular&quot;}')\">R&amp;D Engineer II  (Software Developer) - Cloud\n",
              " </a></h2>,\n",
              " <h2 class=\"title\"><a data-bypass=\"true\" data-m_impr_a_placement_id=\"JSR2CW\" data-m_impr_j_cid=\"660\" data-m_impr_j_coc=\"\" data-m_impr_j_jawsid=\"452695936\" data-m_impr_j_jobid=\"0\" data-m_impr_j_jpm=\"1\" data-m_impr_j_jpt=\"2\" data-m_impr_j_lat=\"42.8142\" data-m_impr_j_lid=\"544\" data-m_impr_j_long=\"-73.9396\" data-m_impr_j_occid=\"11970\" data-m_impr_j_p=\"2\" data-m_impr_j_postingid=\"1708ffb0-1c9a-4b92-9c1c-01734181a47a\" data-m_impr_j_pvc=\"cfc7349d-8efd-46b7-b258-e089e3057638\" data-m_impr_s_t=\"t\" data-m_impr_uuid=\"392bd3fb-81e1-4a90-a0fe-09afd70c9a9c\" href=\"https://job-openings.monster.com/software-engineer-experienced-schenectady-ny-us-naval-nuclear-laboratory/1708ffb0-1c9a-4b92-9c1c-01734181a47a\" onclick=\"clickJobTitle('plid=544&amp;pcid=660&amp;poccid=11970','Software Engineer',''); clickJobTitleSiteCat('{&quot;events.event48&quot;:&quot;true&quot;,&quot;eVar25&quot;:&quot;Software Engineer (Experienced)&quot;,&quot;eVar66&quot;:&quot;Monster&quot;,&quot;eVar67&quot;:&quot;JSR2CW&quot;,&quot;eVar26&quot;:&quot;_Naval Nuclear Laboratory&quot;,&quot;eVar31&quot;:&quot;Schenectady_NY_&quot;,&quot;prop24&quot;:&quot;2021-01-06T12:00&quot;,&quot;eVar53&quot;:&quot;1500127001001&quot;,&quot;eVar50&quot;:&quot;PPC&quot;,&quot;eVar74&quot;:&quot;regular&quot;}')\">Software Engineer (Experienced)\n",
              " </a></h2>,\n",
              " <h2 class=\"title\"><a data-bypass=\"true\" data-m_impr_a_placement_id=\"JSR2CW\" data-m_impr_j_cid=\"660\" data-m_impr_j_coc=\"\" data-m_impr_j_jawsid=\"469613566\" data-m_impr_j_jobid=\"102684\" data-m_impr_j_jpm=\"1\" data-m_impr_j_jpt=\"2\" data-m_impr_j_lat=\"38.8106\" data-m_impr_j_lid=\"497\" data-m_impr_j_long=\"-90.6999\" data-m_impr_j_occid=\"11970\" data-m_impr_j_p=\"3\" data-m_impr_j_postingid=\"1f35c58b-32df-4e19-84fc-2dec63af0fee\" data-m_impr_j_pvc=\"0a8b17fc-22b6-472c-b8ee-1be5a53c171f\" data-m_impr_s_t=\"t\" data-m_impr_uuid=\"8afea8c3-2d40-458d-9278-0019c1e3841e\" href=\"https://job-openings.monster.com/lead-software-development-engineer-ofallon-mo-us-kelly-mitchell/1f35c58b-32df-4e19-84fc-2dec63af0fee\" onclick=\"clickJobTitle('plid=497&amp;pcid=660&amp;poccid=11970','Software Engineer',''); clickJobTitleSiteCat('{&quot;events.event48&quot;:&quot;true&quot;,&quot;eVar25&quot;:&quot;Lead Software Development Engineer&quot;,&quot;eVar66&quot;:&quot;Monster&quot;,&quot;eVar67&quot;:&quot;JSR2CW&quot;,&quot;eVar26&quot;:&quot;_Kelly Mitchell&quot;,&quot;eVar31&quot;:&quot;O\\u0027Fallon_MO_&quot;,&quot;prop24&quot;:&quot;2021-01-06T12:00&quot;,&quot;eVar53&quot;:&quot;1500127001001&quot;,&quot;eVar50&quot;:&quot;PPC&quot;,&quot;eVar74&quot;:&quot;regular&quot;}')\">Lead Software Development Engineer\n",
              " </a></h2>,\n",
              " <h2 class=\"title\"><a data-bypass=\"true\" data-m_impr_a_placement_id=\"JSR2CW\" data-m_impr_j_cid=\"660\" data-m_impr_j_coc=\"\" data-m_impr_j_jawsid=\"384332828\" data-m_impr_j_jobid=\"287934\" data-m_impr_j_jpm=\"1\" data-m_impr_j_jpt=\"2\" data-m_impr_j_lat=\"34.7303\" data-m_impr_j_lid=\"326\" data-m_impr_j_long=\"-86.5861\" data-m_impr_j_occid=\"11970\" data-m_impr_j_p=\"4\" data-m_impr_j_postingid=\"a75ab0d9-274e-425a-b26a-1e6e961a4216\" data-m_impr_j_pvc=\"def5e965-473f-4fad-a030-91c2a4b9282f\" data-m_impr_s_t=\"t\" data-m_impr_uuid=\"c077a230-a3b6-4071-b491-5d06c4e78cd6\" href=\"https://job-openings.monster.com/software-engineer-developer-huntsville-al-us-kratos-defense-security-solutions/a75ab0d9-274e-425a-b26a-1e6e961a4216\" onclick=\"clickJobTitle('plid=326&amp;pcid=660&amp;poccid=11970','Software Engineer',''); clickJobTitleSiteCat('{&quot;events.event48&quot;:&quot;true&quot;,&quot;eVar25&quot;:&quot;Software Engineer/Developer&quot;,&quot;eVar66&quot;:&quot;Monster&quot;,&quot;eVar67&quot;:&quot;JSR2CW&quot;,&quot;eVar26&quot;:&quot;_Kratos Defense \\u0026 Security Solutions&quot;,&quot;eVar31&quot;:&quot;Huntsville_AL_&quot;,&quot;prop24&quot;:&quot;2021-01-03T12:00&quot;,&quot;eVar53&quot;:&quot;1500127001001&quot;,&quot;eVar50&quot;:&quot;PPC&quot;,&quot;eVar74&quot;:&quot;logo&quot;}')\">Software Engineer/Developer\n",
              " </a></h2>,\n",
              " <h2 class=\"title\"><a data-bypass=\"true\" data-m_impr_a_placement_id=\"JSR2CW\" data-m_impr_j_cid=\"11\" data-m_impr_j_coc=\"xsphhoneyx\" data-m_impr_j_jawsid=\"468468825\" data-m_impr_j_jobid=\"223124643\" data-m_impr_j_jpm=\"1\" data-m_impr_j_jpt=\"1\" data-m_impr_j_lat=\"29.7632\" data-m_impr_j_lid=\"619\" data-m_impr_j_long=\"-95.3633\" data-m_impr_j_occid=\"11892\" data-m_impr_j_p=\"5\" data-m_impr_j_postingid=\"9309f0ff-2f9c-4034-b995-fe46703875d2\" data-m_impr_j_pvc=\"monster\" data-m_impr_s_t=\"t\" data-m_impr_uuid=\"94877286-1b47-49ec-b115-0805bb8b17c2\" href=\"https://job-openings.monster.com/software-development-engineer-java-javascript-houston-tx-us-honeywell/223124643\" onclick=\"clickJobTitle('plid=619&amp;pcid=11&amp;poccid=11892','Software Engineer',''); clickJobTitleSiteCat('{&quot;events.event48&quot;:&quot;true&quot;,&quot;eVar25&quot;:&quot;Software Development Engineer (Java/JavaScript)&quot;,&quot;eVar66&quot;:&quot;Monster&quot;,&quot;eVar67&quot;:&quot;JSR2CW&quot;,&quot;eVar26&quot;:&quot;xsphhoneyx_Honeywell&quot;,&quot;eVar31&quot;:&quot;Houston_TX_&quot;,&quot;prop22&quot;:&quot;Employee&quot;,&quot;prop24&quot;:&quot;2020-12-29T12:00&quot;,&quot;eVar53&quot;:&quot;1500127001001&quot;,&quot;eVar50&quot;:&quot;Duration&quot;,&quot;eVar74&quot;:&quot;regular&quot;}')\">Software Development Engineer (Java/JavaScript)\n",
              " </a></h2>]"
            ]
          },
          "metadata": {
            "tags": []
          },
          "execution_count": 441
        }
      ]
    },
    {
      "cell_type": "code",
      "metadata": {
        "id": "WwUx1Ps-3jcK"
      },
      "source": [
        "#We are going to run 2 Loops to get the full text.\r\n",
        "#One loop is to iterate over the tags extracted above and one loop is to iterate over the b tags inside it.\r\n",
        "for i in company:\r\n",
        "  company_name.append(i.get_text().strip().replace(\"\\n\",\"\"))"
      ],
      "execution_count": 442,
      "outputs": []
    },
    {
      "cell_type": "code",
      "metadata": {
        "colab": {
          "base_uri": "https://localhost:8080/",
          "height": 35
        },
        "id": "7tslaimC3jfE",
        "outputId": "3f793fbb-15c5-4497-8a03-809c3f337d3c"
      },
      "source": [
        "company[5].get_text().replace(\"\\n\",\"\").strip()"
      ],
      "execution_count": 443,
      "outputs": [
        {
          "output_type": "execute_result",
          "data": {
            "application/vnd.google.colaboratory.intrinsic+json": {
              "type": "string"
            },
            "text/plain": [
              "'Fidelity TalentSource'"
            ]
          },
          "metadata": {
            "tags": []
          },
          "execution_count": 443
        }
      ]
    },
    {
      "cell_type": "code",
      "metadata": {
        "colab": {
          "base_uri": "https://localhost:8080/"
        },
        "id": "bkNHRK2C3jh2",
        "outputId": "9b2a1621-f685-4240-a4fa-4f5f9d6b080c"
      },
      "source": [
        "#Lets extract all the tags having location.\r\n",
        "location = soup.find_all('div',class_=\"location\")\r\n",
        "location[0:1]"
      ],
      "execution_count": 444,
      "outputs": [
        {
          "output_type": "execute_result",
          "data": {
            "text/plain": [
              "[<div class=\"form-group top-search location rounded-border\">\n",
              " <div class=\"input-group input-group-sm\">\n",
              " <span class=\"input-group-addon\"><i class=\"mdi mdi-map-marker\"></i></span>\n",
              " <label class=\"sr-only\" for=\"location\">Location</label>\n",
              " <input aria-autocomplete=\"both\" aria-expanded=\"false\" autocomplete=\"off\" class=\"form-control input-sm typeahead hasclear\" id=\"location\" name=\"where\" placeholder=\"Location\" role=\"combobox\" type=\"text\" value=\"\"/>\n",
              " <span aria-label=\"clear\" class=\"input-clear\" style=\"\" tabindex=\"0\">x</span>\n",
              " </div>\n",
              " </div>]"
            ]
          },
          "metadata": {
            "tags": []
          },
          "execution_count": 444
        }
      ]
    },
    {
      "cell_type": "code",
      "metadata": {
        "id": "jEZQjjc33jlR"
      },
      "source": [
        "#We are going to run 2 Loops to get the full text.\r\n",
        "#One loop is to iterate over the tags extracted above and one loop is to iterate over the b tags inside it.\r\n",
        "for i in location:\r\n",
        "  job_location.append(i.get_text().strip().replace(\"\\n\",\"\"))"
      ],
      "execution_count": 445,
      "outputs": []
    },
    {
      "cell_type": "code",
      "metadata": {
        "colab": {
          "base_uri": "https://localhost:8080/",
          "height": 35
        },
        "id": "fG-3Z-o9xo6s",
        "outputId": "090f32b6-dfc9-43c8-dddf-f2018ef35db6"
      },
      "source": [
        "#Getting Location info:\r\n",
        "location[4].get_text().replace(\"\\n\",\"\").strip()"
      ],
      "execution_count": 446,
      "outputs": [
        {
          "output_type": "execute_result",
          "data": {
            "application/vnd.google.colaboratory.intrinsic+json": {
              "type": "string"
            },
            "text/plain": [
              "'Huntsville, AL'"
            ]
          },
          "metadata": {
            "tags": []
          },
          "execution_count": 446
        }
      ]
    },
    {
      "cell_type": "code",
      "metadata": {
        "id": "UBJ8BzY9r6y7",
        "colab": {
          "base_uri": "https://localhost:8080/"
        },
        "outputId": "4b1acdc5-eea8-44fc-982f-f9617f4a17fa"
      },
      "source": [
        "#Checking the Length:\r\n",
        "print(len(jobs_titles),len(company_name),len(job_location))"
      ],
      "execution_count": 447,
      "outputs": [
        {
          "output_type": "stream",
          "text": [
            "25 25 26\n"
          ],
          "name": "stdout"
        }
      ]
    },
    {
      "cell_type": "code",
      "metadata": {
        "id": "1wKwK9Gu_jof"
      },
      "source": [
        "#Lets try another method to extract job information.\r\n",
        "#Inside Div and Class-Summary we can find entire job decription.\r\n",
        "job_description = results.find_all('div', class_='summary')"
      ],
      "execution_count": 448,
      "outputs": []
    },
    {
      "cell_type": "code",
      "metadata": {
        "colab": {
          "base_uri": "https://localhost:8080/"
        },
        "id": "BED_AE-f5Clq",
        "outputId": "4a95c9aa-f0da-4fa1-d789-53e17f97b069"
      },
      "source": [
        "#This code is written to derive entire Job Descriptions:\r\n",
        "for job in job_description:\r\n",
        "  jobs_titles = job.find('h2', class_='title')\r\n",
        "  company_name = job.find('div', class_='company')\r\n",
        "  job_location = job.find('div', class_='location')\r\n",
        "  print(jobs_titles.text.strip())\r\n",
        "  print(company_name.text.strip())\r\n",
        "  print(job_location.text.strip())\r\n",
        "  print()"
      ],
      "execution_count": 449,
      "outputs": [
        {
          "output_type": "stream",
          "text": [
            "R&D Engineer II  (Software Developer) - Cloud\n",
            "ANSYS\n",
            "Canonsburg, PA\n",
            "\n",
            "Software Engineer (Experienced)\n",
            "Naval Nuclear Laboratory\n",
            "Schenectady, NY\n",
            "\n",
            "Lead Software Development Engineer\n",
            "Kelly Mitchell\n",
            "O'Fallon, MO\n",
            "\n",
            "Software Engineer/Developer\n",
            "Kratos Defense & Security Solutions\n",
            "Huntsville, AL\n",
            "\n",
            "Software Development Engineer (Java/JavaScript)\n",
            "Honeywell\n",
            "Houston, TX\n",
            "\n",
            "Principal Software Engineer\n",
            "Fidelity TalentSource\n",
            "Merrimack, NH\n",
            "\n",
            "Software Engineer, Senior\n",
            "Bowhead / UIC Technical Services\n",
            "Aberdeen Proving Ground, MD\n",
            "\n",
            "Software Engineer\n",
            "Cyfor Technologies LLC\n",
            "San Antonio, TX\n",
            "\n",
            "REMOTE- Senior Backend JAVA Software Engineer- Spring -REMOTE\n",
            "CyberCoders\n",
            "Phoenix, AZ\n",
            "\n",
            "Software Engineer\n",
            "Direct Fulfillment North America\n",
            "Murrysville, PA\n",
            "\n",
            "Senior Software Engineer\n",
            "EMP\n",
            "Escanaba, MI\n",
            "\n",
            "Senior Software Engineer\n",
            "AbleForce, Inc.\n",
            "SAN DIEGO, CA\n",
            "\n",
            "Software development engineer\n",
            "Pyramid Consulting, Inc\n",
            "New York, NY\n",
            "\n",
            "Senior C# Software Engineer\n",
            "Core10 Inc\n",
            "Nashville, TN\n",
            "\n",
            "LINUX Senior Software Engineer\n",
            "Company Confidential\n",
            "LAS VEGAS, NV\n",
            "\n",
            "Sr. .NET Software Engineer\n",
            "Applied Resource Group\n",
            "Alpharetta, GA\n",
            "\n",
            "Mid-Level Weapons Planning Software Engineer (1-2)\n",
            "BOEING\n",
            "Bridgeton, MO\n",
            "\n",
            "Software Engineer II*\n",
            "Odyssey Systems Consulting Group\n",
            "Lexington, MA\n",
            "\n",
            "Software Engineer (Top Secret Clearance)\n",
            "IVYSYS TECHNOLOGIES LLC\n",
            "McLean/Arlington, VA\n",
            "\n",
            "Senior Software Engineer\n",
            "Programmers.io\n",
            "New York, NY\n",
            "\n",
            "Software Development Engineer\n",
            "Confidential\n",
            "Scottsdale, AZ\n",
            "\n",
            "Sr Software Engineer-Salesforce\n",
            "PSEG\n",
            "Newark, NJ\n",
            "\n",
            "Software Engineer\n",
            "IBM\n",
            "Raleigh, NC\n",
            "\n",
            "Software Engineer/Developer\n",
            "Expedent Corp\n",
            "Irving, TX\n",
            "\n",
            "Senior Full Stack Software Engineer (Remote)\n",
            "Prominent Edge\n",
            "\n",
            "\n"
          ],
          "name": "stdout"
        }
      ]
    },
    {
      "cell_type": "code",
      "metadata": {
        "colab": {
          "base_uri": "https://localhost:8080/"
        },
        "id": "73QQmh5XPvxZ",
        "outputId": "dd33e105-3832-423d-b705-08c1afcf8061"
      },
      "source": [
        "import csv\r\n",
        "csv_file = open('tv_shows.csv','w',encoding='utf-8')\r\n",
        "csv_writer = csv.writer(csv_file)\r\n",
        "csv_writer.writerow(['Title','company','location'])"
      ],
      "execution_count": 450,
      "outputs": [
        {
          "output_type": "execute_result",
          "data": {
            "text/plain": [
              "24"
            ]
          },
          "metadata": {
            "tags": []
          },
          "execution_count": 450
        }
      ]
    }
  ]
}